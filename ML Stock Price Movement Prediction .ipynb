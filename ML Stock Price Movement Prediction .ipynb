{
 "cells": [
  {
   "cell_type": "markdown",
   "id": "1853e928-9335-49c3-82c4-d1e32b963cd7",
   "metadata": {},
   "source": [
    "# Stock Price Movement Prediction using Supervised Machine Learning"
   ]
  },
  {
   "cell_type": "markdown",
   "id": "dcf4c473-d701-4adc-a162-ea32d7e60cb8",
   "metadata": {},
   "source": [
    "In this project, we will use historical stock price data, and build a machine learning pipeline to predict if a stock price will increase or decrease over a specified period."
   ]
  },
  {
   "cell_type": "markdown",
   "id": "224ddd87-e520-41cb-8030-8005e572c32b",
   "metadata": {},
   "source": [
    "## Set up Environment and Install relevant libraries"
   ]
  },
  {
   "cell_type": "code",
   "execution_count": 4,
   "id": "680afe2d-99b2-4210-a466-81be9443d4ba",
   "metadata": {},
   "outputs": [],
   "source": [
    "import pandas as pd\n",
    "import numpy as np\n",
    "import matplotlib.pyplot as plt\n",
    "import yfinance as yf\n",
    "from sklearn.metrics import accuracy_score\n",
    "from sklearn.model_selection import train_test_split, KFold, cross_val_score, GridSearchCV\n",
    "from sklearn.pipeline import Pipeline\n",
    "from sklearn.preprocessing import StandardScaler\n",
    "from sklearn.neighbors import KNeighborsClassifier\n",
    "from sklearn.linear_model import LogisticRegression\n",
    "from sklearn.tree import DecisionTreeClassifier"
   ]
  },
  {
   "cell_type": "markdown",
   "id": "e1f064d3-3762-498b-a082-fe1b05631d1c",
   "metadata": {},
   "source": [
    "## Data Collection"
   ]
  },
  {
   "cell_type": "code",
   "execution_count": 6,
   "id": "664c69cb-2589-47a2-8b10-c1623397b7d4",
   "metadata": {},
   "outputs": [
    {
     "name": "stderr",
     "output_type": "stream",
     "text": [
      "[*********************100%***********************]  1 of 1 completed\n"
     ]
    }
   ],
   "source": [
    "df = yf.download(\"AMZN\",\n",
    "                 start=\"2015-01-01\",\n",
    "                 end=\"2025-11-12\")"
   ]
  },
  {
   "cell_type": "code",
   "execution_count": 7,
   "id": "12475d36-4c9e-40ac-91cb-7d8affad3791",
   "metadata": {},
   "outputs": [
    {
     "data": {
      "text/html": [
       "<div>\n",
       "<style scoped>\n",
       "    .dataframe tbody tr th:only-of-type {\n",
       "        vertical-align: middle;\n",
       "    }\n",
       "\n",
       "    .dataframe tbody tr th {\n",
       "        vertical-align: top;\n",
       "    }\n",
       "\n",
       "    .dataframe thead tr th {\n",
       "        text-align: left;\n",
       "    }\n",
       "\n",
       "    .dataframe thead tr:last-of-type th {\n",
       "        text-align: right;\n",
       "    }\n",
       "</style>\n",
       "<table border=\"1\" class=\"dataframe\">\n",
       "  <thead>\n",
       "    <tr>\n",
       "      <th>Price</th>\n",
       "      <th>Adj Close</th>\n",
       "      <th>Close</th>\n",
       "      <th>High</th>\n",
       "      <th>Low</th>\n",
       "      <th>Open</th>\n",
       "      <th>Volume</th>\n",
       "    </tr>\n",
       "    <tr>\n",
       "      <th>Ticker</th>\n",
       "      <th>AMZN</th>\n",
       "      <th>AMZN</th>\n",
       "      <th>AMZN</th>\n",
       "      <th>AMZN</th>\n",
       "      <th>AMZN</th>\n",
       "      <th>AMZN</th>\n",
       "    </tr>\n",
       "    <tr>\n",
       "      <th>Date</th>\n",
       "      <th></th>\n",
       "      <th></th>\n",
       "      <th></th>\n",
       "      <th></th>\n",
       "      <th></th>\n",
       "      <th></th>\n",
       "    </tr>\n",
       "  </thead>\n",
       "  <tbody>\n",
       "    <tr>\n",
       "      <th>2015-01-02 00:00:00+00:00</th>\n",
       "      <td>15.4260</td>\n",
       "      <td>15.4260</td>\n",
       "      <td>15.7375</td>\n",
       "      <td>15.3480</td>\n",
       "      <td>15.6290</td>\n",
       "      <td>55664000</td>\n",
       "    </tr>\n",
       "    <tr>\n",
       "      <th>2015-01-05 00:00:00+00:00</th>\n",
       "      <td>15.1095</td>\n",
       "      <td>15.1095</td>\n",
       "      <td>15.4190</td>\n",
       "      <td>15.0425</td>\n",
       "      <td>15.3505</td>\n",
       "      <td>55484000</td>\n",
       "    </tr>\n",
       "    <tr>\n",
       "      <th>2015-01-06 00:00:00+00:00</th>\n",
       "      <td>14.7645</td>\n",
       "      <td>14.7645</td>\n",
       "      <td>15.1500</td>\n",
       "      <td>14.6190</td>\n",
       "      <td>15.1120</td>\n",
       "      <td>70380000</td>\n",
       "    </tr>\n",
       "    <tr>\n",
       "      <th>2015-01-07 00:00:00+00:00</th>\n",
       "      <td>14.9210</td>\n",
       "      <td>14.9210</td>\n",
       "      <td>15.0640</td>\n",
       "      <td>14.7665</td>\n",
       "      <td>14.8750</td>\n",
       "      <td>52806000</td>\n",
       "    </tr>\n",
       "    <tr>\n",
       "      <th>2015-01-08 00:00:00+00:00</th>\n",
       "      <td>15.0230</td>\n",
       "      <td>15.0230</td>\n",
       "      <td>15.1570</td>\n",
       "      <td>14.8055</td>\n",
       "      <td>15.0160</td>\n",
       "      <td>61768000</td>\n",
       "    </tr>\n",
       "  </tbody>\n",
       "</table>\n",
       "</div>"
      ],
      "text/plain": [
       "Price                     Adj Close    Close     High      Low     Open  \\\n",
       "Ticker                         AMZN     AMZN     AMZN     AMZN     AMZN   \n",
       "Date                                                                      \n",
       "2015-01-02 00:00:00+00:00   15.4260  15.4260  15.7375  15.3480  15.6290   \n",
       "2015-01-05 00:00:00+00:00   15.1095  15.1095  15.4190  15.0425  15.3505   \n",
       "2015-01-06 00:00:00+00:00   14.7645  14.7645  15.1500  14.6190  15.1120   \n",
       "2015-01-07 00:00:00+00:00   14.9210  14.9210  15.0640  14.7665  14.8750   \n",
       "2015-01-08 00:00:00+00:00   15.0230  15.0230  15.1570  14.8055  15.0160   \n",
       "\n",
       "Price                        Volume  \n",
       "Ticker                         AMZN  \n",
       "Date                                 \n",
       "2015-01-02 00:00:00+00:00  55664000  \n",
       "2015-01-05 00:00:00+00:00  55484000  \n",
       "2015-01-06 00:00:00+00:00  70380000  \n",
       "2015-01-07 00:00:00+00:00  52806000  \n",
       "2015-01-08 00:00:00+00:00  61768000  "
      ]
     },
     "execution_count": 7,
     "metadata": {},
     "output_type": "execute_result"
    }
   ],
   "source": [
    "df.head()"
   ]
  },
  {
   "cell_type": "markdown",
   "id": "4c69d147-d73a-480b-b077-358384c32f19",
   "metadata": {},
   "source": [
    "### Data Preprocessing/Cleaning"
   ]
  },
  {
   "cell_type": "code",
   "execution_count": 9,
   "id": "ab6e1703-8c8c-4ec8-aca2-6f9084a4226d",
   "metadata": {},
   "outputs": [
    {
     "data": {
      "text/html": [
       "<div>\n",
       "<style scoped>\n",
       "    .dataframe tbody tr th:only-of-type {\n",
       "        vertical-align: middle;\n",
       "    }\n",
       "\n",
       "    .dataframe tbody tr th {\n",
       "        vertical-align: top;\n",
       "    }\n",
       "\n",
       "    .dataframe thead tr th {\n",
       "        text-align: left;\n",
       "    }\n",
       "</style>\n",
       "<table border=\"1\" class=\"dataframe\">\n",
       "  <thead>\n",
       "    <tr>\n",
       "      <th>Price</th>\n",
       "      <th>Adj Close</th>\n",
       "      <th>Close</th>\n",
       "      <th>High</th>\n",
       "      <th>Low</th>\n",
       "      <th>Open</th>\n",
       "      <th>Volume</th>\n",
       "    </tr>\n",
       "    <tr>\n",
       "      <th>Ticker</th>\n",
       "      <th>AMZN</th>\n",
       "      <th>AMZN</th>\n",
       "      <th>AMZN</th>\n",
       "      <th>AMZN</th>\n",
       "      <th>AMZN</th>\n",
       "      <th>AMZN</th>\n",
       "    </tr>\n",
       "  </thead>\n",
       "  <tbody>\n",
       "    <tr>\n",
       "      <th>count</th>\n",
       "      <td>2483.000000</td>\n",
       "      <td>2483.000000</td>\n",
       "      <td>2483.000000</td>\n",
       "      <td>2483.000000</td>\n",
       "      <td>2483.000000</td>\n",
       "      <td>2.483000e+03</td>\n",
       "    </tr>\n",
       "    <tr>\n",
       "      <th>mean</th>\n",
       "      <td>99.694125</td>\n",
       "      <td>99.694125</td>\n",
       "      <td>100.853573</td>\n",
       "      <td>98.483416</td>\n",
       "      <td>99.722363</td>\n",
       "      <td>7.664769e+07</td>\n",
       "    </tr>\n",
       "    <tr>\n",
       "      <th>std</th>\n",
       "      <td>52.836090</td>\n",
       "      <td>52.836090</td>\n",
       "      <td>53.476496</td>\n",
       "      <td>52.203331</td>\n",
       "      <td>52.872632</td>\n",
       "      <td>4.061349e+07</td>\n",
       "    </tr>\n",
       "    <tr>\n",
       "      <th>min</th>\n",
       "      <td>14.347500</td>\n",
       "      <td>14.347500</td>\n",
       "      <td>14.539500</td>\n",
       "      <td>14.262500</td>\n",
       "      <td>14.314000</td>\n",
       "      <td>1.762600e+07</td>\n",
       "    </tr>\n",
       "    <tr>\n",
       "      <th>25%</th>\n",
       "      <td>48.260250</td>\n",
       "      <td>48.260250</td>\n",
       "      <td>48.577000</td>\n",
       "      <td>47.824251</td>\n",
       "      <td>48.200001</td>\n",
       "      <td>5.119100e+07</td>\n",
       "    </tr>\n",
       "    <tr>\n",
       "      <th>50%</th>\n",
       "      <td>94.139999</td>\n",
       "      <td>94.139999</td>\n",
       "      <td>95.089996</td>\n",
       "      <td>93.000000</td>\n",
       "      <td>94.040001</td>\n",
       "      <td>6.569600e+07</td>\n",
       "    </tr>\n",
       "    <tr>\n",
       "      <th>75%</th>\n",
       "      <td>152.507248</td>\n",
       "      <td>152.507248</td>\n",
       "      <td>154.385002</td>\n",
       "      <td>150.150002</td>\n",
       "      <td>152.737747</td>\n",
       "      <td>9.053500e+07</td>\n",
       "    </tr>\n",
       "    <tr>\n",
       "      <th>max</th>\n",
       "      <td>210.050003</td>\n",
       "      <td>210.050003</td>\n",
       "      <td>212.250000</td>\n",
       "      <td>207.440002</td>\n",
       "      <td>209.720001</td>\n",
       "      <td>4.771220e+08</td>\n",
       "    </tr>\n",
       "  </tbody>\n",
       "</table>\n",
       "</div>"
      ],
      "text/plain": [
       "Price     Adj Close        Close         High          Low         Open  \\\n",
       "Ticker         AMZN         AMZN         AMZN         AMZN         AMZN   \n",
       "count   2483.000000  2483.000000  2483.000000  2483.000000  2483.000000   \n",
       "mean      99.694125    99.694125   100.853573    98.483416    99.722363   \n",
       "std       52.836090    52.836090    53.476496    52.203331    52.872632   \n",
       "min       14.347500    14.347500    14.539500    14.262500    14.314000   \n",
       "25%       48.260250    48.260250    48.577000    47.824251    48.200001   \n",
       "50%       94.139999    94.139999    95.089996    93.000000    94.040001   \n",
       "75%      152.507248   152.507248   154.385002   150.150002   152.737747   \n",
       "max      210.050003   210.050003   212.250000   207.440002   209.720001   \n",
       "\n",
       "Price         Volume  \n",
       "Ticker          AMZN  \n",
       "count   2.483000e+03  \n",
       "mean    7.664769e+07  \n",
       "std     4.061349e+07  \n",
       "min     1.762600e+07  \n",
       "25%     5.119100e+07  \n",
       "50%     6.569600e+07  \n",
       "75%     9.053500e+07  \n",
       "max     4.771220e+08  "
      ]
     },
     "execution_count": 9,
     "metadata": {},
     "output_type": "execute_result"
    }
   ],
   "source": [
    "df.describe()"
   ]
  },
  {
   "cell_type": "code",
   "execution_count": 10,
   "id": "b4c8cea3-8b16-4444-a6de-362834de5e45",
   "metadata": {},
   "outputs": [
    {
     "data": {
      "text/plain": [
       "Price      Ticker\n",
       "Adj Close  AMZN      0\n",
       "Close      AMZN      0\n",
       "High       AMZN      0\n",
       "Low        AMZN      0\n",
       "Open       AMZN      0\n",
       "Volume     AMZN      0\n",
       "dtype: int64"
      ]
     },
     "execution_count": 10,
     "metadata": {},
     "output_type": "execute_result"
    }
   ],
   "source": [
    "# Check for null values\n",
    "df.isna().sum()"
   ]
  },
  {
   "cell_type": "markdown",
   "id": "f3ac20dd-359a-404b-bc45-04858248692f",
   "metadata": {},
   "source": [
    "## Feature Engineering"
   ]
  },
  {
   "cell_type": "markdown",
   "id": "6494ed58-4b7a-4b58-9f13-4bb0a86494cf",
   "metadata": {},
   "source": [
    "Creating features that will be used to predict price movements. These include:\n",
    "- <b>Daily Returns:</b> Percentage change (increase or decrease) of stock closing prices in a specific period\n",
    "- <b>Moving averages:</b> Average or mean of closing prices over a specific period of time\n",
    "- <b>Volatility:</b> Measures the risk or variability of returns. Calculated as the standard deviation of daily returns."
   ]
  },
  {
   "cell_type": "code",
   "execution_count": 13,
   "id": "e90e1db1-1866-41f4-b321-b60c90004654",
   "metadata": {},
   "outputs": [
    {
     "data": {
      "text/html": [
       "<div>\n",
       "<style scoped>\n",
       "    .dataframe tbody tr th:only-of-type {\n",
       "        vertical-align: middle;\n",
       "    }\n",
       "\n",
       "    .dataframe tbody tr th {\n",
       "        vertical-align: top;\n",
       "    }\n",
       "\n",
       "    .dataframe thead tr th {\n",
       "        text-align: left;\n",
       "    }\n",
       "\n",
       "    .dataframe thead tr:last-of-type th {\n",
       "        text-align: right;\n",
       "    }\n",
       "</style>\n",
       "<table border=\"1\" class=\"dataframe\">\n",
       "  <thead>\n",
       "    <tr>\n",
       "      <th>Price</th>\n",
       "      <th>Daily_Return</th>\n",
       "      <th>SMA</th>\n",
       "      <th>LMA</th>\n",
       "      <th>Volatility</th>\n",
       "    </tr>\n",
       "    <tr>\n",
       "      <th>Ticker</th>\n",
       "      <th></th>\n",
       "      <th></th>\n",
       "      <th></th>\n",
       "      <th></th>\n",
       "    </tr>\n",
       "    <tr>\n",
       "      <th>Date</th>\n",
       "      <th></th>\n",
       "      <th></th>\n",
       "      <th></th>\n",
       "      <th></th>\n",
       "    </tr>\n",
       "  </thead>\n",
       "  <tbody>\n",
       "    <tr>\n",
       "      <th>2015-01-02 00:00:00+00:00</th>\n",
       "      <td>NaN</td>\n",
       "      <td>15.42600</td>\n",
       "      <td>15.426000</td>\n",
       "      <td>NaN</td>\n",
       "    </tr>\n",
       "    <tr>\n",
       "      <th>2015-01-05 00:00:00+00:00</th>\n",
       "      <td>-0.020517</td>\n",
       "      <td>15.26775</td>\n",
       "      <td>15.267750</td>\n",
       "      <td>NaN</td>\n",
       "    </tr>\n",
       "    <tr>\n",
       "      <th>2015-01-06 00:00:00+00:00</th>\n",
       "      <td>-0.022833</td>\n",
       "      <td>15.10000</td>\n",
       "      <td>15.100000</td>\n",
       "      <td>0.001638</td>\n",
       "    </tr>\n",
       "    <tr>\n",
       "      <th>2015-01-07 00:00:00+00:00</th>\n",
       "      <td>0.010600</td>\n",
       "      <td>15.05525</td>\n",
       "      <td>15.055250</td>\n",
       "      <td>0.018670</td>\n",
       "    </tr>\n",
       "    <tr>\n",
       "      <th>2015-01-08 00:00:00+00:00</th>\n",
       "      <td>0.006836</td>\n",
       "      <td>15.04880</td>\n",
       "      <td>15.048800</td>\n",
       "      <td>0.017640</td>\n",
       "    </tr>\n",
       "    <tr>\n",
       "      <th>...</th>\n",
       "      <td>...</td>\n",
       "      <td>...</td>\n",
       "      <td>...</td>\n",
       "      <td>...</td>\n",
       "    </tr>\n",
       "    <tr>\n",
       "      <th>2024-11-06 00:00:00+00:00</th>\n",
       "      <td>0.038045</td>\n",
       "      <td>190.52250</td>\n",
       "      <td>184.666500</td>\n",
       "      <td>0.025515</td>\n",
       "    </tr>\n",
       "    <tr>\n",
       "      <th>2024-11-07 00:00:00+00:00</th>\n",
       "      <td>0.014293</td>\n",
       "      <td>191.69250</td>\n",
       "      <td>185.332334</td>\n",
       "      <td>0.025506</td>\n",
       "    </tr>\n",
       "    <tr>\n",
       "      <th>2024-11-08 00:00:00+00:00</th>\n",
       "      <td>-0.008903</td>\n",
       "      <td>192.66050</td>\n",
       "      <td>185.842167</td>\n",
       "      <td>0.026367</td>\n",
       "    </tr>\n",
       "    <tr>\n",
       "      <th>2024-11-11 00:00:00+00:00</th>\n",
       "      <td>-0.006437</td>\n",
       "      <td>193.62550</td>\n",
       "      <td>186.338500</td>\n",
       "      <td>0.026835</td>\n",
       "    </tr>\n",
       "    <tr>\n",
       "      <th>2024-11-12 00:00:00+00:00</th>\n",
       "      <td>0.010008</td>\n",
       "      <td>194.68650</td>\n",
       "      <td>186.850000</td>\n",
       "      <td>0.026812</td>\n",
       "    </tr>\n",
       "  </tbody>\n",
       "</table>\n",
       "<p>2483 rows × 4 columns</p>\n",
       "</div>"
      ],
      "text/plain": [
       "Price                     Daily_Return        SMA         LMA Volatility\n",
       "Ticker                                                                  \n",
       "Date                                                                    \n",
       "2015-01-02 00:00:00+00:00          NaN   15.42600   15.426000        NaN\n",
       "2015-01-05 00:00:00+00:00    -0.020517   15.26775   15.267750        NaN\n",
       "2015-01-06 00:00:00+00:00    -0.022833   15.10000   15.100000   0.001638\n",
       "2015-01-07 00:00:00+00:00     0.010600   15.05525   15.055250   0.018670\n",
       "2015-01-08 00:00:00+00:00     0.006836   15.04880   15.048800   0.017640\n",
       "...                                ...        ...         ...        ...\n",
       "2024-11-06 00:00:00+00:00     0.038045  190.52250  184.666500   0.025515\n",
       "2024-11-07 00:00:00+00:00     0.014293  191.69250  185.332334   0.025506\n",
       "2024-11-08 00:00:00+00:00    -0.008903  192.66050  185.842167   0.026367\n",
       "2024-11-11 00:00:00+00:00    -0.006437  193.62550  186.338500   0.026835\n",
       "2024-11-12 00:00:00+00:00     0.010008  194.68650  186.850000   0.026812\n",
       "\n",
       "[2483 rows x 4 columns]"
      ]
     },
     "execution_count": 13,
     "metadata": {},
     "output_type": "execute_result"
    }
   ],
   "source": [
    "# Calculate the daily return as feature\n",
    "df['Daily_Return'] = df['Close'].pct_change()\n",
    "\n",
    "# Calculating short and long term moving averages\n",
    "df['SMA'] = df['Close'].rolling(window=20, min_periods=1).mean()\n",
    "df['LMA'] = df['Close'].rolling(window=60, min_periods=1).mean()\n",
    "\n",
    "# Calculating volatility as a feature\n",
    "df['Volatility'] = df['Daily_Return'].rolling(window=10, min_periods=1).std()\n",
    "\n",
    "# Display the Feature Columns\n",
    "df[['Daily_Return','SMA', 'LMA', 'Volatility']]"
   ]
  },
  {
   "cell_type": "code",
   "execution_count": 14,
   "id": "1cfdbbb9-58b7-4752-b7e8-c24db397d4ac",
   "metadata": {},
   "outputs": [
    {
     "data": {
      "text/html": [
       "<div>\n",
       "<style scoped>\n",
       "    .dataframe tbody tr th:only-of-type {\n",
       "        vertical-align: middle;\n",
       "    }\n",
       "\n",
       "    .dataframe tbody tr th {\n",
       "        vertical-align: top;\n",
       "    }\n",
       "\n",
       "    .dataframe thead tr th {\n",
       "        text-align: left;\n",
       "    }\n",
       "\n",
       "    .dataframe thead tr:last-of-type th {\n",
       "        text-align: right;\n",
       "    }\n",
       "</style>\n",
       "<table border=\"1\" class=\"dataframe\">\n",
       "  <thead>\n",
       "    <tr>\n",
       "      <th>Price</th>\n",
       "      <th>Daily_Return</th>\n",
       "      <th>SMA</th>\n",
       "      <th>LMA</th>\n",
       "      <th>Volatility</th>\n",
       "    </tr>\n",
       "    <tr>\n",
       "      <th>Ticker</th>\n",
       "      <th></th>\n",
       "      <th></th>\n",
       "      <th></th>\n",
       "      <th></th>\n",
       "    </tr>\n",
       "    <tr>\n",
       "      <th>Date</th>\n",
       "      <th></th>\n",
       "      <th></th>\n",
       "      <th></th>\n",
       "      <th></th>\n",
       "    </tr>\n",
       "  </thead>\n",
       "  <tbody>\n",
       "    <tr>\n",
       "      <th>2015-01-06 00:00:00+00:00</th>\n",
       "      <td>-0.022833</td>\n",
       "      <td>15.100000</td>\n",
       "      <td>15.100000</td>\n",
       "      <td>0.001638</td>\n",
       "    </tr>\n",
       "    <tr>\n",
       "      <th>2015-01-07 00:00:00+00:00</th>\n",
       "      <td>0.010600</td>\n",
       "      <td>15.055250</td>\n",
       "      <td>15.055250</td>\n",
       "      <td>0.018670</td>\n",
       "    </tr>\n",
       "    <tr>\n",
       "      <th>2015-01-08 00:00:00+00:00</th>\n",
       "      <td>0.006836</td>\n",
       "      <td>15.048800</td>\n",
       "      <td>15.048800</td>\n",
       "      <td>0.017640</td>\n",
       "    </tr>\n",
       "    <tr>\n",
       "      <th>2015-01-09 00:00:00+00:00</th>\n",
       "      <td>-0.011749</td>\n",
       "      <td>15.015083</td>\n",
       "      <td>15.015083</td>\n",
       "      <td>0.015457</td>\n",
       "    </tr>\n",
       "    <tr>\n",
       "      <th>2015-01-12 00:00:00+00:00</th>\n",
       "      <td>-0.018590</td>\n",
       "      <td>14.951571</td>\n",
       "      <td>14.951571</td>\n",
       "      <td>0.014544</td>\n",
       "    </tr>\n",
       "  </tbody>\n",
       "</table>\n",
       "</div>"
      ],
      "text/plain": [
       "Price                     Daily_Return        SMA        LMA Volatility\n",
       "Ticker                                                                 \n",
       "Date                                                                   \n",
       "2015-01-06 00:00:00+00:00    -0.022833  15.100000  15.100000   0.001638\n",
       "2015-01-07 00:00:00+00:00     0.010600  15.055250  15.055250   0.018670\n",
       "2015-01-08 00:00:00+00:00     0.006836  15.048800  15.048800   0.017640\n",
       "2015-01-09 00:00:00+00:00    -0.011749  15.015083  15.015083   0.015457\n",
       "2015-01-12 00:00:00+00:00    -0.018590  14.951571  14.951571   0.014544"
      ]
     },
     "execution_count": 14,
     "metadata": {},
     "output_type": "execute_result"
    }
   ],
   "source": [
    "# Drop NaN values resulting from rolling calculations\n",
    "df.dropna(inplace=True)\n",
    "\n",
    "# Check NaN values have been dropped\n",
    "df[['Daily_Return','SMA', 'LMA', 'Volatility']].head()"
   ]
  },
  {
   "cell_type": "markdown",
   "id": "d219ea2a-bbdd-49ef-babf-c9eeab1b9047",
   "metadata": {},
   "source": [
    "### Define Target Variable"
   ]
  },
  {
   "cell_type": "markdown",
   "id": "df452fc2-f180-4072-bff8-894d64d29bb8",
   "metadata": {},
   "source": [
    "Creating a binary target variable ```df['Price_Signal']``` where 1 indicates the price increased and zero if the price decreased"
   ]
  },
  {
   "cell_type": "code",
   "execution_count": 17,
   "id": "140a7dfa-ba5c-4a1d-9065-859aae24e914",
   "metadata": {},
   "outputs": [],
   "source": [
    "# Checks if yesterday's closing price is greater than today's closing price\n",
    "df['Price_Signal'] = np.where(df['Close'].shift(-1) > df['Close'], 1, 0)"
   ]
  },
  {
   "cell_type": "code",
   "execution_count": 18,
   "id": "d24c8ceb-4e59-4f09-bc95-c60104ffa782",
   "metadata": {},
   "outputs": [
    {
     "data": {
      "text/html": [
       "<div>\n",
       "<style scoped>\n",
       "    .dataframe tbody tr th:only-of-type {\n",
       "        vertical-align: middle;\n",
       "    }\n",
       "\n",
       "    .dataframe tbody tr th {\n",
       "        vertical-align: top;\n",
       "    }\n",
       "\n",
       "    .dataframe thead tr th {\n",
       "        text-align: left;\n",
       "    }\n",
       "\n",
       "    .dataframe thead tr:last-of-type th {\n",
       "        text-align: right;\n",
       "    }\n",
       "</style>\n",
       "<table border=\"1\" class=\"dataframe\">\n",
       "  <thead>\n",
       "    <tr>\n",
       "      <th>Price</th>\n",
       "      <th>Close</th>\n",
       "      <th>Price_Signal</th>\n",
       "    </tr>\n",
       "    <tr>\n",
       "      <th>Ticker</th>\n",
       "      <th>AMZN</th>\n",
       "      <th></th>\n",
       "    </tr>\n",
       "    <tr>\n",
       "      <th>Date</th>\n",
       "      <th></th>\n",
       "      <th></th>\n",
       "    </tr>\n",
       "  </thead>\n",
       "  <tbody>\n",
       "    <tr>\n",
       "      <th>2024-11-06 00:00:00+00:00</th>\n",
       "      <td>207.089996</td>\n",
       "      <td>1</td>\n",
       "    </tr>\n",
       "    <tr>\n",
       "      <th>2024-11-07 00:00:00+00:00</th>\n",
       "      <td>210.050003</td>\n",
       "      <td>0</td>\n",
       "    </tr>\n",
       "    <tr>\n",
       "      <th>2024-11-08 00:00:00+00:00</th>\n",
       "      <td>208.179993</td>\n",
       "      <td>0</td>\n",
       "    </tr>\n",
       "    <tr>\n",
       "      <th>2024-11-11 00:00:00+00:00</th>\n",
       "      <td>206.839996</td>\n",
       "      <td>1</td>\n",
       "    </tr>\n",
       "    <tr>\n",
       "      <th>2024-11-12 00:00:00+00:00</th>\n",
       "      <td>208.910004</td>\n",
       "      <td>0</td>\n",
       "    </tr>\n",
       "  </tbody>\n",
       "</table>\n",
       "</div>"
      ],
      "text/plain": [
       "Price                           Close Price_Signal\n",
       "Ticker                           AMZN             \n",
       "Date                                              \n",
       "2024-11-06 00:00:00+00:00  207.089996            1\n",
       "2024-11-07 00:00:00+00:00  210.050003            0\n",
       "2024-11-08 00:00:00+00:00  208.179993            0\n",
       "2024-11-11 00:00:00+00:00  206.839996            1\n",
       "2024-11-12 00:00:00+00:00  208.910004            0"
      ]
     },
     "execution_count": 18,
     "metadata": {},
     "output_type": "execute_result"
    }
   ],
   "source": [
    "df[['Close', 'Price_Signal']].tail()"
   ]
  },
  {
   "cell_type": "code",
   "execution_count": 19,
   "id": "523c357d-e86c-46ee-8723-981c6e67c83b",
   "metadata": {},
   "outputs": [
    {
     "name": "stdout",
     "output_type": "stream",
     "text": [
      "Null Values: 0\n"
     ]
    }
   ],
   "source": [
    "# Drop the last row with NaN target\n",
    "df.dropna(inplace=True)\n",
    "# Check for null values\n",
    "print(f'Null Values: {df['Price_Signal'].isna().sum()}')"
   ]
  },
  {
   "cell_type": "code",
   "execution_count": 20,
   "id": "4e891c83-9bf7-4254-94ec-be38b0cb20ab",
   "metadata": {},
   "outputs": [],
   "source": [
    "# Separate features and target\n",
    "X = df[['Daily_Return', 'SMA', 'LMA', 'Volatility']]\n",
    "y = df['Price_Signal']"
   ]
  },
  {
   "cell_type": "markdown",
   "id": "012c8ce9-0f36-48f6-8ff8-1cec61d92aa8",
   "metadata": {},
   "source": [
    "### Train-Test Split"
   ]
  },
  {
   "cell_type": "markdown",
   "id": "3f71d705-050f-437c-83b2-8928f1428591",
   "metadata": {},
   "source": [
    "Scaling is crucial for models like Logistic Regression and KNN that rely on distance calculations. This is because financial features like returns and volatility can vary widely in scale, and models like logistic regression and KNN perform better with scaled data."
   ]
  },
  {
   "cell_type": "code",
   "execution_count": 23,
   "id": "0e73c8f1-2b2a-4f0d-a362-905b80163dbe",
   "metadata": {},
   "outputs": [
    {
     "name": "stdout",
     "output_type": "stream",
     "text": [
      "Training Data Mean (before scaling): Price         Ticker\n",
      "Daily_Return             0.001193\n",
      "SMA                     97.897094\n",
      "LMA                     96.604722\n",
      "Volatility               0.018240\n",
      "dtype: float64\n",
      "Training Data Std Dev (before scaling): Price         Ticker\n",
      "Daily_Return             0.020472\n",
      "SMA                     52.423951\n",
      "LMA                     52.081198\n",
      "Volatility               0.010110\n",
      "dtype: float64\n",
      "Training Data Mean (after scaling): [ 1.43254584e-17  1.71905501e-16  3.02625308e-16 -1.27138443e-16]\n",
      "Training Data Std Dev (after scaling): [1. 1. 1. 1.]\n"
     ]
    }
   ],
   "source": [
    "# Split data to avoid data leakage\n",
    "X_train, X_test, y_train, y_test = train_test_split(X, y, test_size=0.2, random_state=42, stratify=y)\n",
    "\n",
    "# Checking mean and std deviation before scaling data\n",
    "print(\"Training Data Mean (before scaling):\", X_train.mean(axis=0))\n",
    "print(\"Training Data Std Dev (before scaling):\", X_train.std(axis=0))\n",
    "\n",
    "# Standardizing the data\n",
    "scaler = StandardScaler()\n",
    "X_train_scaled = scaler.fit_transform(X_train)\n",
    "X_test_scaled = scaler.transform(X_test)\n",
    "\n",
    "# Checking mean and std deviation of scaled data\n",
    "print(\"Training Data Mean (after scaling):\", X_train_scaled.mean(axis=0))\n",
    "print(\"Training Data Std Dev (after scaling):\", X_train_scaled.std(axis=0))"
   ]
  },
  {
   "cell_type": "markdown",
   "id": "708c493f-e736-4330-aef9-5968addf21f7",
   "metadata": {},
   "source": [
    "### Build the Pipeline"
   ]
  },
  {
   "cell_type": "markdown",
   "id": "524592de-cee9-4330-ae89-5babc4e1f7bf",
   "metadata": {},
   "source": [
    "A pipeline is a sequence of steps that you follow to train a model. We will test three models and run cross validation on the models to see which performs best. Cross-validation is a technique used to assess the performance of a machine learning model on unseen data. It helps prevent overfitting, where a model performs well on training data but poorly on new data."
   ]
  },
  {
   "cell_type": "code",
   "execution_count": 26,
   "id": "12174959-dea5-44a3-9d82-3a855e5dfa4c",
   "metadata": {},
   "outputs": [
    {
     "name": "stdout",
     "output_type": "stream",
     "text": [
      "KNN: Mean Accuracy = 0.495, Standard Deviation = 0.031\n",
      "Logistic Regression: Mean Accuracy = 0.524, Standard Deviation = 0.028\n",
      "Decision Tree: Mean Accuracy = 0.491, Standard Deviation = 0.023\n"
     ]
    }
   ],
   "source": [
    "# Define pipeline with scaler and KNN model\n",
    "models = {\n",
    "    'KNN': KNeighborsClassifier(),\n",
    "    'Logistic Regression': LogisticRegression(max_iter=1000),\n",
    "    'Decision Tree': DecisionTreeClassifier()\n",
    "}\n",
    "\n",
    "# Store cross-validation results\n",
    "pipeline_results = {}\n",
    "scaler = StandardScaler()\n",
    " \n",
    "# Loop through models and perform cross-validation\n",
    "kfold_cv = KFold(n_splits=5, random_state=42, shuffle=True)\n",
    "\n",
    "for model_name, model in models.items():\n",
    "    pipeline = Pipeline([\n",
    "        ('scaler', scaler),\n",
    "        ('classifier', model)\n",
    "    ])\n",
    "    \n",
    "    # Cross-validation score for each model\n",
    "    cv_scores = cross_val_score(model, X_train_scaled, y_train, cv=kfold_cv, scoring='accuracy')\n",
    "    pipeline_results[model_name] = cv_scores\n",
    "    print(f\"{model_name}: Mean Accuracy = {cv_scores.mean():.3f}, Standard Deviation = {cv_scores.std():.3f}\")\n"
   ]
  },
  {
   "cell_type": "markdown",
   "id": "cec209c4-fd05-4f3a-b250-a1ad5810a91a",
   "metadata": {},
   "source": [
    "From the cross validation results, logistic regression demonstates the best performance as the  mean indicates it performs better on average across different folds and the standard deviation is still relatively low suggesting consistent performance."
   ]
  },
  {
   "cell_type": "markdown",
   "id": "71305cbe-c569-4a98-9272-4add97b8b0ca",
   "metadata": {},
   "source": [
    "## Visualise Model Performance"
   ]
  },
  {
   "cell_type": "code",
   "execution_count": 29,
   "id": "78ab870f-1349-402d-af4b-798e54c929fa",
   "metadata": {},
   "outputs": [
    {
     "data": {
      "image/png": "[encoded data removed]",
      "text/plain": [
       "<Figure size 1400x700 with 1 Axes>"
      ]
     },
     "metadata": {},
     "output_type": "display_data"
    }
   ],
   "source": [
    "plt.figure(figsize=(14,7))\n",
    "plt.boxplot(pipeline_results.values(), tick_labels=pipeline_results.keys())\n",
    "plt.title('Model Cross-Validation Accuracy')\n",
    "plt.ylabel('Accuracy')\n",
    "plt.show()"
   ]
  },
  {
   "cell_type": "markdown",
   "id": "4df2fce9-b92c-470d-9f96-63f8065f3b58",
   "metadata": {},
   "source": [
    "## Model Selection and Evaluation on Test Set"
   ]
  },
  {
   "cell_type": "code",
   "execution_count": 31,
   "id": "28cfdd61-10dd-4de1-ba3d-b9910cc58910",
   "metadata": {},
   "outputs": [
    {
     "name": "stdout",
     "output_type": "stream",
     "text": [
      "Test Accuracy: 0.5332\n"
     ]
    }
   ],
   "source": [
    "# Choose the best model based on cross-validation results (i.e. Logistic Regression)\n",
    "best_model = LogisticRegression(max_iter=1000)\n",
    "pipeline = Pipeline([\n",
    "    ('scaler', scaler),\n",
    "    ('classifier', best_model)\n",
    "])\n",
    "\n",
    "# Fit on the training data and evaluate on the test set\n",
    "pipeline.fit(X_train, y_train)\n",
    "y_pred = pipeline.predict(X_test)\n",
    "test_accuracy = accuracy_score(y_test, y_pred)\n",
    "print(f\"Test Accuracy: {test_accuracy:.4f}\")"
   ]
  },
  {
   "cell_type": "markdown",
   "id": "fee0169b-0214-4cd9-8959-04f50f4d4aa2",
   "metadata": {},
   "source": [
    "## Hyperparameter Tuning"
   ]
  },
  {
   "cell_type": "markdown",
   "id": "85e10124-c89e-403c-b6ee-6b9b1cd8e1ef",
   "metadata": {},
   "source": [
    "Hyperparameter tuning is the process of optimising the hyperparameters of a machine learning model to improve its performance. Hyperparameters are settings that are not learned from the data but are set before training."
   ]
  },
  {
   "cell_type": "code",
   "execution_count": 34,
   "id": "a9261801-8dd1-4110-9419-7ffd4bcdb8c9",
   "metadata": {},
   "outputs": [
    {
     "name": "stdout",
     "output_type": "stream",
     "text": [
      "Best Parameters: {'classifier__C': 0.01}\n",
      "Best Cross-Validation Accuracy: 0.534\n"
     ]
    }
   ],
   "source": [
    "# Define parameter grid for tuning Logistic Regression within the pipeline\n",
    "param_grid = {\n",
    "    'classifier__C': [0.01, 0.1, 1, 10], \n",
    "}\n",
    " \n",
    "# Grid search with cross-validation\n",
    "grid_search = GridSearchCV(pipeline, param_grid, cv=5, scoring='accuracy')\n",
    "grid_search.fit(X_train, y_train)\n",
    " \n",
    "# Best parameters and test set performance\n",
    "print(\"Best Parameters:\", grid_search.best_params_)\n",
    "print(f\"Best Cross-Validation Accuracy: {grid_search.best_score_:.3f}\")"
   ]
  },
  {
   "cell_type": "markdown",
   "id": "ef76fc37-46cb-48c5-a6f2-4243806978aa",
   "metadata": {},
   "source": [
    "## Final Model Evaluation"
   ]
  },
  {
   "cell_type": "markdown",
   "id": "caec7bdb-7117-4d0b-abf7-24e98006f1d2",
   "metadata": {},
   "source": [
    "Evaluating the hyperparameter tuned model on the test set"
   ]
  },
  {
   "cell_type": "code",
   "execution_count": 37,
   "id": "f5bb98e4-b037-47a2-b3b7-591ef0365bde",
   "metadata": {},
   "outputs": [
    {
     "name": "stdout",
     "output_type": "stream",
     "text": [
      "Test Accuracy after hyperparameter tuning: 0.537\n"
     ]
    }
   ],
   "source": [
    "test_accuracy = grid_search.score(X_test, y_test)\n",
    "print(f\"Test Accuracy after hyperparameter tuning: {test_accuracy:.3f}\")"
   ]
  },
  {
   "cell_type": "markdown",
   "id": "1429bcb5-5a39-40f4-a95e-b9a22f9b8896",
   "metadata": {},
   "source": [
    "# Conclusion"
   ]
  },
  {
   "cell_type": "markdown",
   "id": "1a3cc840-eba2-403a-9b98-a4bd87de4ba5",
   "metadata": {},
   "source": [
    "The test accuracy of 0.537 indicates that the model, after hyperparameter tuning, correctly predicts the label (i.e 'Price Signal') for approximately 53.7% of the test data points."
   ]
  }
 ],
 "metadata": {
  "kernelspec": {
   "display_name": "Python 3 (ipykernel)",
   "language": "python",
   "name": "python3"
  },
  "language_info": {
   "codemirror_mode": {
    "name": "ipython",
    "version": 3
   },
   "file_extension": ".py",
   "mimetype": "text/x-python",
   "name": "python",
   "nbconvert_exporter": "python",
   "pygments_lexer": "ipython3",
   "version": "3.12.7"
  }
 },
 "nbformat": 4,
 "nbformat_minor": 5
}
